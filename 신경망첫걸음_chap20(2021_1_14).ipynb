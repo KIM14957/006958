{
  "nbformat": 4,
  "nbformat_minor": 0,
  "metadata": {
    "colab": {
      "name": "신경망첫걸음_chap20(2021.1.14).ipynb",
      "private_outputs": true,
      "provenance": [],
      "authorship_tag": "ABX9TyMNa0Gi3gVMWJOzGqk7bX98",
      "include_colab_link": true
    },
    "kernelspec": {
      "name": "python3",
      "display_name": "Python 3"
    }
  },
  "cells": [
    {
      "cell_type": "markdown",
      "metadata": {
        "id": "view-in-github",
        "colab_type": "text"
      },
      "source": [
        "<a href=\"https://colab.research.google.com/github/KIM14957/006958/blob/master/%EC%8B%A0%EA%B2%BD%EB%A7%9D%EC%B2%AB%EA%B1%B8%EC%9D%8C_chap20(2021_1_14).ipynb\" target=\"_parent\"><img src=\"https://colab.research.google.com/assets/colab-badge.svg\" alt=\"Open In Colab\"/></a>"
      ]
    },
    {
      "cell_type": "code",
      "metadata": {
        "id": "C54m4cz7iI1w"
      },
      "source": [
        "#1 뼈대 코드 만들기 : 초기화, 학습, 질의\r\n",
        "\r\n",
        "# 신경망 클래스의 정의\r\n",
        "class NeuralNetwork :\r\n",
        "\r\n",
        "  ##1 신경망 초기화 하기\r\n",
        "  def __int__(self, inputnodes, hiddennodes, outputnodes,learningrate):\r\n",
        "    # 입력, 은닉, 출력 계층의 노드 개수 설정\r\n",
        "    self.inodes = inputnodes\r\n",
        "    self.hnodes = hiddennodes\r\n",
        "    self.onodes = outputnodes\r\n",
        "  \r\n",
        "    # 가중치 행렬\r\n",
        "    self.wih = (numpy.random.normal(0.0, pow(self.hnodes,-0.5), (self.inodes, self.innodes))\r\n",
        "    self.who = (numpy.random.normal(0.0, pow(self.onodes,-0.5), (self.onodes, self.innodes))\r\n",
        "\r\n",
        "   # 학습률\r\n",
        "    self.lr = learningrate\r\n",
        "  \r\n",
        "   # 활성화 함수 시그모이드\r\n",
        "    self.activation_function = lambda x: scipy.special.explit(x)\r\n",
        "\r\n",
        "    pass\r\n",
        "  ##2 신경망 학습시키기\r\n",
        "   def train(self, inputs_list, targets_list):\r\n",
        "     # 입력 리스트를 2차원의 행렬로 변환\r\n",
        "     inputs = numpy.array(inputs_list,ndmin=2).T\r\n",
        "     targets = numpy.array(targets_list,ndmin=2).T  # array().T : \r\n",
        "\r\n",
        "     # 은닉 계층으로 들어오는 신호를 계산\r\n",
        "     hidden_inputs = numpy.dot(self.with, inputs)  # numpy.dot() : \r\n",
        "     # 은닉 계층에서 나가는 신호를 계산\r\n",
        "      hidden_outputs = self.activation_function(hidden_inputs)\r\n",
        "\r\n",
        "     # 최종 출력으로 들어오는 신호 계산\r\n",
        "     final_inputs = numpy.dot(self.who, hidden_outputs)\r\n",
        "     # 최종 출력 계층으로 나가는 신호를 계산\r\n",
        "     final_outputs = self.activation_function(final_inputs)\r\n",
        "     # 출력계층의 오차는 실제값 - 계산값\r\n",
        "     output_errors = targets - final_outputs\r\n",
        "     # 은닉계층의 오차는 가중치에 의해 나뉜 출력계층의 오차들을 재조합해 계산\r\n",
        "     hidden_errors = numpy.dot(self.who.T, output_errors)\r\n",
        "\r\n",
        "     # 은닉 계층과 출력 계층간의 가중치 업데이트\r\n",
        "     self.who += self.lr * numpy.dot(output_errors * final_outputs * (1.0 - final_outputs), numpy.transpose(hidden_outputs))\r\n",
        "     # 입력계층과 은닉 계층간 가중치 업데이트\r\n",
        "      self.wih += self.lr * numpy.dot(hidden_errors  * hidden_outputs * (1.0 - hidden_outputs), numpy.transpose(inputs))\r\n",
        "\r\n",
        "      pass\r\n",
        "  \r\n",
        "  ##3 신경망에 질의하기\r\n",
        "  def query(self, inputs_list):\r\n",
        "    inputs = numpy.array(inputs_list, ndmin=2).T\r\n",
        "\r\n",
        "    hidden_inputs = numpy.dot(self.wih,inputs)\r\n",
        "\r\n",
        "    hidden_outputs = self.activation_function(hidden_inputs)\r\n",
        "\r\n",
        "    final_inputs = numpy.dot(self.who, hidden_outputs)\r\n",
        "\r\n",
        "    final_outputs = self.activation_function(final_inputs)\r\n",
        "\r\n",
        "    return final_outputs"
      ],
      "execution_count": null,
      "outputs": []
    }
  ]
}